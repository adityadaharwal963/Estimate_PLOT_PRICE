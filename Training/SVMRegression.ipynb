{
 "cells": [
  {
   "cell_type": "code",
   "execution_count": 5,
   "id": "99d4b21e-152e-49e8-a6be-945e6bae719f",
   "metadata": {},
   "outputs": [],
   "source": [
    "import pandas as pd\n",
    "import matplotlib.pyplot as pl\n",
    "import numpy as np"
   ]
  },
  {
   "cell_type": "markdown",
   "id": "1db61cef-f441-480e-94d1-4e0a0b1d3fc7",
   "metadata": {},
   "source": [
    "# Importing the dataset"
   ]
  },
  {
   "cell_type": "code",
   "execution_count": 8,
   "id": "fd768b27-bbea-4e66-adf9-5f0d2932519c",
   "metadata": {},
   "outputs": [],
   "source": [
    "dataset = pd.read_csv('../Data_Transformation/Processed_Data.csv')\n",
    "dataset.head()\n",
    "y = dataset['Price'].values\n",
    "dataset.drop(columns=['Price','Lat','Lng'],inplace=True)\n",
    "X = dataset.values\n"
   ]
  },
  {
   "cell_type": "markdown",
   "id": "2b3f74b3-5472-4f67-a731-3a63335b2a05",
   "metadata": {},
   "source": [
    "Splitting the dataset into the Training set and Test set"
   ]
  },
  {
   "cell_type": "code",
   "execution_count": 11,
   "id": "0cba35d4-8ff6-4a94-9301-5704ab084164",
   "metadata": {},
   "outputs": [],
   "source": [
    "from sklearn.model_selection import train_test_split\n",
    "X_train, X_test, y_train, y_test = train_test_split(X, y, test_size = 2/15, random_state = 60)"
   ]
  },
  {
   "cell_type": "markdown",
   "id": "0f4ab149-52ba-4571-ada1-d89c21413ca1",
   "metadata": {},
   "source": [
    "# Training the Simple Linear Regression model on the Training set"
   ]
  },
  {
   "cell_type": "code",
   "execution_count": 14,
   "id": "fb6fe251-2b64-4bd7-9a2a-d5a47ac2021f",
   "metadata": {},
   "outputs": [],
   "source": [
    "from sklearn.model_selection import cross_val_score\n",
    "from sklearn.metrics import mean_absolute_error,mean_squared_error,r2_score\n",
    "from sklearn.preprocessing import StandardScaler\n",
    "from sklearn.svm import SVR\n"
   ]
  },
  {
   "cell_type": "code",
   "execution_count": 16,
   "id": "4933aa9c-28c2-4d20-8786-7c95504f9379",
   "metadata": {},
   "outputs": [
    {
     "data": {
      "text/plain": [
       "(65, 18)"
      ]
     },
     "execution_count": 16,
     "metadata": {},
     "output_type": "execute_result"
    }
   ],
   "source": [
    "np.shape(X_train)"
   ]
  },
  {
   "cell_type": "code",
   "execution_count": 18,
   "id": "6a29a19e-d0b9-4a12-af0e-3325582abe6c",
   "metadata": {},
   "outputs": [
    {
     "data": {
      "text/plain": [
       "(10, 18)"
      ]
     },
     "execution_count": 18,
     "metadata": {},
     "output_type": "execute_result"
    }
   ],
   "source": [
    "np.shape(X_test)"
   ]
  },
  {
   "cell_type": "code",
   "execution_count": 20,
   "id": "b5f66a26-fb3c-4ea7-9a19-bb92ea4f3107",
   "metadata": {},
   "outputs": [
    {
     "name": "stdout",
     "output_type": "stream",
     "text": [
      "MAE 55.14742085775053\n",
      "MSE 8257.407646884338\n",
      "R2 score 0.036813482442650036\n"
     ]
    }
   ],
   "source": [
    "scaler = StandardScaler()\n",
    "\n",
    "# fit the scaler to the train set, it will learn the parameters\n",
    "scaler.fit(X_train)\n",
    "\n",
    "# transform train and test sets\n",
    "X_train_scaled = scaler.transform(X_train)\n",
    "X_test_scaled = scaler.transform(X_test)\n",
    "\n",
    "regressor = SVR(kernel = 'rbf')\n",
    "regressor.fit(X_train_scaled, y_train)\n",
    "\n",
    "y_pred = regressor.predict(X_test_scaled)\n",
    "print(\"MAE\",mean_absolute_error(y_test,y_pred))\n",
    "print(\"MSE\",mean_squared_error(y_test,y_pred))\n",
    "print(\"R2 score\",r2_score(y_test,y_pred))"
   ]
  },
  {
   "cell_type": "code",
   "execution_count": 22,
   "id": "f1fc92f3-93cb-499a-931a-6a72846e248c",
   "metadata": {},
   "outputs": [
    {
     "data": {
      "text/plain": [
       "(array([120.1251374 , 126.63851888, 119.66983852, 118.31003217,\n",
       "        124.94851494, 117.13981853, 125.8602785 , 119.56498211,\n",
       "        124.67953056, 120.14448766]),\n",
       " array([130., 390.,  38.,  80.,  89.,  75., 160., 105., 136., 100.]))"
      ]
     },
     "execution_count": 22,
     "metadata": {},
     "output_type": "execute_result"
    }
   ],
   "source": [
    "y_pred , y_test"
   ]
  },
  {
   "cell_type": "code",
   "execution_count": null,
   "id": "3540da7f-c9b5-407c-bb94-55e2fcf3c4f2",
   "metadata": {},
   "outputs": [],
   "source": []
  },
  {
   "cell_type": "code",
   "execution_count": null,
   "id": "10764912-d98b-4fd3-86c2-b660f807f80e",
   "metadata": {},
   "outputs": [],
   "source": []
  },
  {
   "cell_type": "code",
   "execution_count": null,
   "id": "aff4d17d-1ae5-4d08-a71d-7694476a5b37",
   "metadata": {},
   "outputs": [],
   "source": []
  }
 ],
 "metadata": {
  "kernelspec": {
   "display_name": "Python 3 (ipykernel)",
   "language": "python",
   "name": "python3"
  },
  "language_info": {
   "codemirror_mode": {
    "name": "ipython",
    "version": 3
   },
   "file_extension": ".py",
   "mimetype": "text/x-python",
   "name": "python",
   "nbconvert_exporter": "python",
   "pygments_lexer": "ipython3",
   "version": "3.12.2"
  }
 },
 "nbformat": 4,
 "nbformat_minor": 5
}
