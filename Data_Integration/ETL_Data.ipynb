{
 "cells": [
  {
   "cell_type": "markdown",
   "id": "61545ec3-079d-4e99-804a-74f4d3db6964",
   "metadata": {},
   "source": [
    "ETL (Extract, Transform, Load)  to pgsql"
   ]
  },
  {
   "cell_type": "code",
   "execution_count": 7,
   "id": "6b5823ea-4ff3-450a-a035-096fe331a7fc",
   "metadata": {
    "editable": true,
    "slideshow": {
     "slide_type": ""
    },
    "tags": []
   },
   "outputs": [
    {
     "name": "stdout",
     "output_type": "stream",
     "text": [
      "Requirement already satisfied: psycopg2 in /opt/anaconda3/envs/jupyter-book-env/lib/python3.8/site-packages (2.9.10)\n"
     ]
    }
   ],
   "source": [
    "# Psycopg is the most popular PostgreSQL database adapter for the Python programming language\n",
    "!pip install psycopg2"
   ]
  },
  {
   "cell_type": "code",
   "execution_count": 8,
   "id": "c0c48765-927b-4157-9bcd-184f155b976a",
   "metadata": {
    "editable": true,
    "slideshow": {
     "slide_type": ""
    },
    "tags": []
   },
   "outputs": [],
   "source": [
    "import psycopg2\n",
    "import pandas as pd\n",
    "import numpy as np\n",
    "import re # RegEx can be used to check if a string contains the specified search pattern\n",
    "import math"
   ]
  },
  {
   "cell_type": "markdown",
   "id": "bfbf73ad-aab9-4800-8a3e-bb71d0f563ed",
   "metadata": {},
   "source": [
    "### Function: `connectToPgsql()` — Establish a Connection to PostgreSQL Database\n",
    "\n",
    "This function performs the following tasks:\n",
    "\n",
    "1. **Uses the `psycopg2` library**: It relies on the `psycopg2` library to connect to the PostgreSQL database.\n",
    "2. **Takes credentials as input**: The function requires the following credentials:\n",
    "   - Database name\n",
    "   - User\n",
    "   - Password\n",
    "   - Host\n",
    "   - Port\n",
    "3. **Establishes a connection**: It establishes a connection to the PostgreSQL database using the provided credentials.\n",
    "4. **Returns the connection object**: The function returns a connection object (`conn`) which can be used for:\n",
    "   - Querying\n",
    "   - Interacting with the database"
   ]
  },
  {
   "cell_type": "code",
   "execution_count": 9,
   "id": "49e51fba-0f6d-4237-9f5e-29693fb41fa8",
   "metadata": {
    "editable": true,
    "slideshow": {
     "slide_type": ""
    },
    "tags": []
   },
   "outputs": [],
   "source": [
    "\n",
    "def connectToPgsql() :\n",
    "     try:\n",
    "        conn = psycopg2.connect(database=\"osm\", \n",
    "                                 user=\"adityadaharwal\", \n",
    "                                 host=\"localhost\", \n",
    "                                 password=\"1234\", \n",
    "                                 port=5432)\n",
    "        return conn\n",
    "     except  Exception as e:\n",
    "        print(f\"Error: {e}\")\n",
    "        return None\n",
    "    "
   ]
  },
  {
   "cell_type": "markdown",
   "id": "c94f96cc-bf6c-4beb-8fb6-48c6fadd00a0",
   "metadata": {},
   "source": [
    "### Query and Display PostgreSQL Extensions in a DataFrame\n",
    "\n",
    "This code snippet performs the following steps:\n",
    "\n",
    "1. **Connects to the PostgreSQL Database**: It establishes a connection to the PostgreSQL database using appropriate credentials.\n",
    "   \n",
    "2. **Retrieves Installed Extensions**: It queries the `pg_extension` system catalog to fetch information about the extensions installed in the database.\n",
    "\n",
    "3. **Displays Results in a Pandas DataFrame**: The retrieved data is displayed in a Pandas DataFrame for a structured and easy-to-read format.\n",
    "\n",
    "   - This allows a quick overview of the PostgreSQL extensions installed in the current database instance."
   ]
  },
  {
   "cell_type": "code",
   "execution_count": 10,
   "id": "cc094c50-6348-48a9-bb74-f048e441f0eb",
   "metadata": {
    "editable": true,
    "slideshow": {
     "slide_type": ""
    },
    "tags": []
   },
   "outputs": [
    {
     "name": "stdout",
     "output_type": "stream",
     "text": [
      "     oid  extname  extowner  extnamespace  extrelocatable extversion  \\\n",
      "0  13826  plpgsql        10            11           False        1.0   \n",
      "1  96395  postgis     16384          2200           False      3.4.2   \n",
      "2  97471   hstore     16384          2200            True        1.8   \n",
      "\n",
      "  extconfig                                       extcondition  \n",
      "0      None                                               None  \n",
      "1   [96713]  [WHERE NOT (\\nsrid BETWEEN 2000 AND 2217\\nOR s...  \n",
      "2      None                                               None  \n"
     ]
    }
   ],
   "source": [
    "conn = connectToPgsql()\n",
    "\n",
    "# show all type of dat in database\n",
    "cur = conn.cursor()\n",
    "cur.execute('SELECT * FROM pg_extension;')\n",
    "\n",
    "# Fetch results\n",
    "data = cur.fetchall()\n",
    "\n",
    "# Get column names\n",
    "colnames = [desc[0] for desc in cur.description]\n",
    "\n",
    "# Create a DataFrame\n",
    "df_extension = pd.DataFrame(data, columns=colnames)\n",
    "\n",
    "conn.commit()\n",
    "conn.close()\n",
    "\n",
    "print(df_extension)"
   ]
  },
  {
   "cell_type": "markdown",
   "id": "9141e996-91b9-4675-9ed5-0274a809195c",
   "metadata": {},
   "source": [
    "## Creating and Indexing the `features` Table in PostgreSQL\n",
    "\n",
    "This script performs the following tasks:\n",
    "\n",
    "1. **Creates the `features` Table**: \n",
    "   - A table is created to store various types of geographic features.\n",
    "   - The table includes a `geom` column of the `GEOGRAPHY` data type to store geographic data.\n",
    "\n",
    "2. **Sets Up a GiST Index**: \n",
    "   - The `CREATE INDEX` statement is used to create a GiST (Generalized Search Tree) index on the `geom` column.\n",
    "   - This index optimizes spatial queries, such as finding geographic features near a specific point or performing range queries.\n",
    "\n",
    "By creating the index, the performance of spatial queries is improved, making geographic data analysis more efficient."
   ]
  },
  {
   "cell_type": "code",
   "execution_count": null,
   "id": "93d4ee26-fcde-4c50-a83b-8ca04d0afda7",
   "metadata": {
    "editable": true,
    "slideshow": {
     "slide_type": ""
    },
    "tags": []
   },
   "outputs": [],
   "source": [
    "conn = connectToPgsql()\n",
    "\n",
    "# create table\n",
    "cur = conn.cursor()\n",
    "\n",
    "# tag type:\n",
    "# college \n",
    "# govt_institute\n",
    "# malls \n",
    "# schools\n",
    "# luxury_hotel\n",
    "# prime_hotel\n",
    "# hotel\n",
    "# it_company \n",
    "# industry\n",
    "# tourist_spot\n",
    "\n",
    "\n",
    "# create table\n",
    "cur.execute(\"\"\"CREATE TABLE  features (\n",
    "    id SERIAL PRIMARY KEY,\n",
    "    title VARCHAR(255) NOT NULL,\n",
    "    review_count INTEGER,\n",
    "    rating NUMERIC(2, 1), \n",
    "    tag VARCHAR(255) NOT NULL,\n",
    "    geom GEOGRAPHY(Point, 4326)\n",
    "    );\n",
    "\"\"\")\n",
    "\n",
    "# create indexing on table\n",
    "cur.execute('CREATE INDEX idx_features_geom ON features USING GIST (geom);')\n",
    "\n",
    "\n",
    "# commit the transaction and close the connection\n",
    "conn.commit()\n",
    "conn.close()"
   ]
  },
  {
   "cell_type": "markdown",
   "id": "77d04e50",
   "metadata": {},
   "source": [
    "### Function: `extract_lat_long(url)`\n",
    "\n",
    "This function is a helper designed to:\n",
    "\n",
    "1. **Extract Latitude and Longitude**: It takes a URL as input and extracts the latitude and longitude information embedded within the URL.\n",
    "   \n",
    "2. **Return Coordinates**: The function returns the extracted latitude and longitude as separate values (or as a tuple, depending on implementation). \n",
    "\n"
   ]
  },
  {
   "cell_type": "code",
   "execution_count": 25,
   "id": "06659e49-f948-4a39-a9bd-cdaee7fc90e8",
   "metadata": {},
   "outputs": [],
   "source": [
    "def extract_lat_long(url):\n",
    "    # Regular expression to match latitude and longitude\n",
    "    pattern =  r\"3d([\\d.-]+)!4d([\\d.-]+)\"\n",
    "    match = re.search(pattern, url)\n",
    "\n",
    "    if match:\n",
    "        latitude = float(match.group(1))\n",
    "        longitude = float(match.group(2))\n",
    "        return [latitude, longitude]\n",
    "    else:\n",
    "        return None, None"
   ]
  },
  {
   "cell_type": "markdown",
   "id": "953d016b-52ea-4e5a-922f-fdcd260b9c5f",
   "metadata": {},
   "source": [
    "### Inserting Features from CSV into PostgreSQL Database\n",
    "\n",
    "This function performs the following tasks:\n",
    "\n",
    "1. **Processes a CSV File**: \n",
    "   - It takes a CSV file containing geographical feature data as input.\n",
    "   - The CSV file may include columns like title, reviews, rating, and coordinates.\n",
    "\n",
    "2. **Cleans and Formats the Data**:\n",
    "   - The function cleans and formats the data as needed, ensuring that the information is in the correct format before insertion.\n",
    "\n",
    "3. **Extracts Coordinates from Google Maps Links**:\n",
    "   - Coordinates (latitude and longitude) are extracted from Google Maps links present in the CSV file.\n",
    "\n",
    "4. **Inserts Data into PostgreSQL Database**:\n",
    "   - The formatted and cleaned data, including title, reviews, rating, and coordinates, is inserted into the PostgreSQL database.\n",
    "\n",
    "---\n",
    "\n",
    "### Function: `push_features_in_DB(file_path, tag)`\n",
    "\n",
    "This function performs the following:\n",
    "\n",
    "1. **Takes Input Parameters**:\n",
    "   - `file_path`: Path to the CSV file containing the data.\n",
    "   - `tag`: A tag or identifier used for categorizing or filtering the data during the insertion process.\n",
    "\n",
    "2. **Inserts Data into the Database**:\n",
    "   - It reads the CSV file, processes each entry, and inserts the features into the PostgreSQL database."
   ]
  },
  {
   "cell_type": "code",
   "execution_count": null,
   "id": "8f3d332c-a3ac-457d-a26d-a933985013eb",
   "metadata": {},
   "outputs": [],
   "source": [
    "\n",
    "def push_features_in_DB(file_path,tag):\n",
    "    feature = pd.read_csv(file_path)\n",
    "    feature = feature.drop(columns=['Website','Phone','Industry','Address'])\n",
    "    feature['Google Maps Link'] = feature['Google Maps Link'].apply(extract_lat_long)\n",
    "    feature['Google Maps Link'].head()\n",
    "    feature.rename(columns={'Google Maps Link': 'Coordinates'}, inplace=True)\n",
    "    # feature.head()\n",
    "\n",
    "    #remove NAN \n",
    "    feature.dropna(subset=['Title', 'Rating','Reviews'])\n",
    "    \n",
    "    conn = connectToPgsql()\n",
    "    cur = conn.cursor()\n",
    "    \n",
    "    # Loop through the data and insert each row\n",
    "    for row in feature.itertuples():\n",
    "        \n",
    "        Title = row.Title\n",
    "        Rating = row.Rating\n",
    "        Reviews = row.Reviews\n",
    "        Coordinates = row.Coordinates\n",
    "        \n",
    "        if pd.isna(Reviews) :\n",
    "            Reviews = '0'\n",
    "        if pd.isna(Rating) :\n",
    "            Rating = 0.0\n",
    "\n",
    "        Title = Title.replace('\\'', '')\n",
    "        if isinstance(Reviews, str):\n",
    "            Reviews = Reviews.replace(',', '')\n",
    "            Reviews = int(Reviews)\n",
    "\n",
    "        query = f\"\"\"\n",
    "            INSERT INTO features (title, review_count, rating, tag, geom) \n",
    "            VALUES ('{Title}',{Reviews}, {Rating},'{tag}' , ST_SetSRID(ST_MakePoint({Coordinates[1]}, {Coordinates[0]}), 4326));\n",
    "        \"\"\"\n",
    "        cur.execute(query)\n",
    "\n",
    "    conn.commit()\n",
    "    conn.close()\n",
    "    "
   ]
  },
  {
   "cell_type": "markdown",
   "id": "c470b111-e32b-4ea8-972f-089e258fbea1",
   "metadata": {},
   "source": [
    "### Inserting Multiple Feature Datasets into PostgreSQL Database\n",
    "\n",
    "This section outlines the process for inserting data from multiple CSV files into a PostgreSQL database. The steps are as follows:\n",
    "\n",
    "1. **Handling Multiple CSV Files**: \n",
    "   - Multiple CSV files, each containing different types of geographical features, are processed.\n",
    "\n",
    "2. **Using the `push_features_in_DB` Function**: \n",
    "   - The `push_features_in_DB` function is called for each CSV file.\n",
    "   - The function is passed the path to the CSV file and an appropriate tag that identifies the type of feature being inserted (e.g., park, restaurant, landmark).\n",
    "\n",
    "3. **Inserting Data into the Database**: \n",
    "   - For each CSV file, the function processes the data and inserts it into the PostgreSQL database with the corresponding tag.\n",
    "\n",
    "This approach allows you to efficiently insert and categorize different datasets of geographical features into a single database."
   ]
  },
  {
   "cell_type": "code",
   "execution_count": null,
   "id": "6e89dc1c-6569-4c3c-ac47-740342b5c402",
   "metadata": {},
   "outputs": [],
   "source": [
    "push_features_in_DB('../Datasets/college.csv','college')\n",
    "push_features_in_DB('../Datasets/govt_institutes.csv','govt_institute')\n",
    "push_features_in_DB('../Datasets/hotel.csv','hotel')\n",
    "push_features_in_DB('../Datasets/luxury_hotel.csv','luxury_hotel')\n",
    "push_features_in_DB('../Datasets/prime_hotel.csv','prime_hotel')\n",
    "push_features_in_DB('../Datasets/malls.csv','malls')\n",
    "push_features_in_DB('../Datasets/schools.csv','schools')\n",
    "push_features_in_DB('../Datasets/it_companies.csv','it_companies')\n",
    "push_features_in_DB('../Datasets/tourist_spot.csv','tourist_spot')\n",
    "push_features_in_DB('../Datasets/hospital.csv','hospital')"
   ]
  },
  {
   "cell_type": "code",
   "execution_count": null,
   "id": "00c8c7c5-b9d4-4c35-a2b0-f6dd8489fe4c",
   "metadata": {},
   "outputs": [],
   "source": []
  },
  {
   "cell_type": "markdown",
   "id": "304fc673-ad9a-4164-ae3b-c174cb067a8c",
   "metadata": {},
   "source": [
    "### For Testing Purpose: Delete the `features` Table"
   ]
  },
  {
   "cell_type": "code",
   "execution_count": 14,
   "id": "74c7ac13-bf88-4a14-b35e-376898f4754e",
   "metadata": {},
   "outputs": [],
   "source": [
    "# conn = connectToPgsql()\n",
    "\n",
    "# # create table\n",
    "# cur = conn.cursor()\n",
    "# cur.execute(\"Drop TABLE features;\")\n",
    "# conn.commit()\n",
    "# conn.close()"
   ]
  },
  {
   "cell_type": "code",
   "execution_count": null,
   "id": "a710e2c1",
   "metadata": {},
   "outputs": [],
   "source": []
  }
 ],
 "metadata": {
  "kernelspec": {
   "display_name": "Python 3 (ipykernel)",
   "language": "python",
   "name": "python3"
  },
  "language_info": {
   "codemirror_mode": {
    "name": "ipython",
    "version": 3
   },
   "file_extension": ".py",
   "mimetype": "text/x-python",
   "name": "python",
   "nbconvert_exporter": "python",
   "pygments_lexer": "ipython3",
   "version": "3.12.2"
  }
 },
 "nbformat": 4,
 "nbformat_minor": 5
}
